{
 "cells": [
  {
   "cell_type": "markdown",
   "metadata": {},
   "source": [
    "# AnimeGM - Autoencoder - Keras\n",
    "GOAL: Generate new anime-style images\n",
    "    \n",
    "Methodology:\n",
    "1. Build a dataset of images suitable for out needs\n",
    "2. Build a generative model.\n",
    "3. Train the model\n",
    "4. Generate a new image with random numbers\n",
    "5. Transfer style to a photo\n",
    "6. Examine results"
   ]
  },
  {
   "cell_type": "markdown",
   "metadata": {},
   "source": [
    "## 1. Build a dataset\n",
    "Pull in an existing dataset and modify it for my needs.\n",
    "\n",
    "Lets start with the danbooru 2017 anime image dataset. Now this dataset is huge. So we are only going to use 1 torrent of the SFW subset."
   ]
  },
  {
   "cell_type": "markdown",
   "metadata": {},
   "source": [
    "### Imports"
   ]
  },
  {
   "cell_type": "code",
   "execution_count": 1,
   "metadata": {
    "collapsed": true
   },
   "outputs": [],
   "source": [
    "import pandas as pd\n",
    "from scipy import misc\n",
    "import numpy as np\n",
    "import matplotlib.pyplot as plt\n",
    "from skimage import color\n",
    "import seaborn as sns; sns.set()\n",
    "from skimage.transform import resize\n",
    "from os import listdir\n",
    "from os.path import join\n",
    "from skimage import data\n",
    "import tensorflow as tf\n",
    "from tensorflow.python.framework.ops import reset_default_graph\n",
    "%matplotlib inline"
   ]
  },
  {
   "cell_type": "markdown",
   "metadata": {},
   "source": [
    "### Functions"
   ]
  },
  {
   "cell_type": "code",
   "execution_count": 2,
   "metadata": {
    "collapsed": true
   },
   "outputs": [],
   "source": [
    "# tf image preprocessing\n",
    "# load, decoded and resize\n",
    "def parse_image(image_path):\n",
    "    image_string = tf.read_file(image_path)\n",
    "    \n",
    "    # decode\n",
    "    image = tf.image.decode_jpeg(image_string, channels=3)\n",
    "    \n",
    "    # check for 1 channel\n",
    "    # if so, grayscale\n",
    "    if (n_channels == 1):\n",
    "        image = tf.image.rgb_to_grayscale(image)\n",
    "        \n",
    "    # resize the image\n",
    "    image = tf.image.resize_images(image, [resize_dim, resize_dim])\n",
    "    \n",
    "    # feature normalize the image\n",
    "    image = tf.divide(image, 255)\n",
    "    \n",
    "    # check if we want the image flattened\n",
    "    # if so, flatten the image\n",
    "    if flatten == True:\n",
    "        image = tf.reshape(image, [-1])\n",
    "    \n",
    "    return image"
   ]
  },
  {
   "cell_type": "code",
   "execution_count": 3,
   "metadata": {
    "collapsed": true
   },
   "outputs": [],
   "source": [
    "def show_image(image):\n",
    "    # check for 1 channel\n",
    "    # if so, grayscale\n",
    "    if (n_channels == 1):\n",
    "        image = image.reshape((resize_dim, resize_dim))\n",
    "    else:\n",
    "        image = image.reshape((resize_dim, resize_dim, n_channels))\n",
    "\n",
    "    plt.imshow(image, cmap='gray')\n",
    "    plt.xticks([])\n",
    "    plt.yticks([])\n",
    "    plt.show()"
   ]
  },
  {
   "cell_type": "code",
   "execution_count": 4,
   "metadata": {
    "collapsed": true
   },
   "outputs": [],
   "source": [
    "def show_images(images, figsize=(10, 10)):\n",
    "   # get the number of images\n",
    "    n_images = images.shape[0]\n",
    "    \n",
    "    if n_images == 1:\n",
    "        show_image(images[0])\n",
    "        return\n",
    "    \n",
    "    # get the square root of the number of images\n",
    "    squareroot = int(np.ceil(np.sqrt(n_images)))\n",
    "    \n",
    "    fig, ax = plt.subplots(squareroot, squareroot, figsize=figsize,\n",
    "                           subplot_kw=dict(xticks=[], yticks=[]))\n",
    "    fig.subplots_adjust(hspace=0.05, wspace=0.05)\n",
    "\n",
    "    for i, axi in enumerate(ax.flat):\n",
    "        # exit if the index of subplots is greater than amount of images\n",
    "        if i > n_images - 1:\n",
    "            return\n",
    "        \n",
    "        image = images[i]\n",
    "        \n",
    "        # check for 1 channel\n",
    "        # if so, grayscale\n",
    "        if (n_channels == 1):\n",
    "            image = image.reshape((resize_dim, resize_dim))\n",
    "        else:\n",
    "            image = image.reshape((resize_dim, resize_dim, n_channels))\n",
    "\n",
    "        im = axi.imshow(image, cmap='gray')"
   ]
  },
  {
   "cell_type": "markdown",
   "metadata": {},
   "source": [
    "### Variables"
   ]
  },
  {
   "cell_type": "code",
   "execution_count": 5,
   "metadata": {
    "collapsed": true
   },
   "outputs": [],
   "source": [
    "dir_name = 'danbooru-small'"
   ]
  },
  {
   "cell_type": "code",
   "execution_count": 6,
   "metadata": {},
   "outputs": [],
   "source": [
    "n_train = 2200\n",
    "n_test = 10\n",
    "\n",
    "resize_dim = 32\n",
    "n_channels = 1\n",
    "n_features = resize_dim * resize_dim * n_channels"
   ]
  },
  {
   "cell_type": "code",
   "execution_count": 7,
   "metadata": {},
   "outputs": [],
   "source": [
    "# hyper parameters~~~~\n",
    "batch_size = 50\n",
    "n_batches = int(n_train / batch_size)\n",
    "n_epochs = 10"
   ]
  },
  {
   "cell_type": "code",
   "execution_count": 8,
   "metadata": {},
   "outputs": [],
   "source": [
    "flatten = False\n",
    "log_dir = '/Users/Admin/data-science/animeGM/autoencoder'"
   ]
  },
  {
   "cell_type": "markdown",
   "metadata": {},
   "source": [
    "### Prepare data"
   ]
  },
  {
   "cell_type": "code",
   "execution_count": 9,
   "metadata": {},
   "outputs": [],
   "source": [
    "# get filenames and join paths as np array\n",
    "base_filenames = listdir(dir_name)\n",
    "filename_paths = [join(dir_name, base_filename) for base_filename in base_filenames]\n",
    "filename_paths = np.array(filename_paths)"
   ]
  },
  {
   "cell_type": "code",
   "execution_count": 10,
   "metadata": {},
   "outputs": [],
   "source": [
    "# create paths for train and test\n",
    "train_paths = filename_paths[:-n_test][:n_train]\n",
    "test_paths = filename_paths[:n_test]"
   ]
  },
  {
   "cell_type": "code",
   "execution_count": 11,
   "metadata": {},
   "outputs": [],
   "source": [
    "# reset the current graph and start over\n",
    "reset_default_graph()"
   ]
  },
  {
   "cell_type": "code",
   "execution_count": 12,
   "metadata": {},
   "outputs": [],
   "source": [
    "# create a dataset from the paths\n",
    "image_paths = tf.placeholder(tf.string, shape=[None])\n",
    "dataset = tf.data.Dataset.from_tensor_slices(image_paths)\n",
    "dataset = dataset.map(parse_image)\n",
    "dataset = dataset.shuffle(buffer_size=n_train)\n",
    "dataset = dataset.batch(batch_size)\n",
    "dataset = dataset.repeat()\n",
    "\n",
    "# iterators\n",
    "iter = dataset.make_initializable_iterator()\n",
    "next_ele = iter.get_next()"
   ]
  },
  {
   "cell_type": "code",
   "execution_count": 13,
   "metadata": {},
   "outputs": [
    {
     "name": "stdout",
     "output_type": "stream",
     "text": [
      "(32, 32, 1)\n"
     ]
    },
    {
     "data": {
      "image/png": "[encoded data removed]",
      "text/plain": [
       "<Figure size 720x720 with 16 Axes>"
      ]
     },
     "metadata": {},
     "output_type": "display_data"
    }
   ],
   "source": [
    "sess = tf.Session()\n",
    "\n",
    "# Initialize an iterator over a testing dataset.\n",
    "sess.run(iter.initializer, feed_dict={image_paths: test_paths})\n",
    "    \n",
    "# get batch\n",
    "test_batch_X = sess.run(next_ele)\n",
    "\n",
    "print(test_batch_X[0].shape)\n",
    "\n",
    "# show the test images\n",
    "show_images(test_batch_X)"
   ]
  },
  {
   "cell_type": "markdown",
   "metadata": {},
   "source": [
    "## 2. Build a generative model\n",
    "Lets build an autoencoder"
   ]
  },
  {
   "cell_type": "code",
   "execution_count": 14,
   "metadata": {},
   "outputs": [
    {
     "name": "stderr",
     "output_type": "stream",
     "text": [
      "Using TensorFlow backend.\n"
     ]
    }
   ],
   "source": [
    "import keras\n",
    "from keras import backend as K\n",
    "from keras.layers import Conv2D, Dense, Input, MaxPooling2D, Reshape, UpSampling2D\n",
    "from keras.models import Model\n",
    "from keras.optimizers import SGD\n",
    "from keras.callbacks import TensorBoard"
   ]
  },
  {
   "cell_type": "code",
   "execution_count": 15,
   "metadata": {},
   "outputs": [],
   "source": [
    "# input placeholder\n",
    "inputs = Input(shape=(resize_dim, resize_dim, n_channels))\n",
    "\n",
    "# encoded the input with convolutions and pooling\n",
    "x = Conv2D(16, (3, 3), activation='relu', name='encoder_0', padding='same')(inputs)\n",
    "x = MaxPooling2D((2, 2), padding='same', name='pool_0')(x)\n",
    "x = Conv2D(8, (3, 3), activation='relu', name='encoder_1', padding='same')(x)\n",
    "x = MaxPooling2D((2, 2), padding='same', name='pool_1')(x)\n",
    "x = Conv2D(8, (3, 3), activation='relu', name='encoder_2', padding='same')(x)\n",
    "encoded = MaxPooling2D((2, 2), padding='same', name='pool_2')(x)\n",
    "\n",
    "# decoded the compression and upsampling\n",
    "x = Conv2D(8, (3, 3), activation='relu', name='decoder_0', padding='same')(encoded)\n",
    "x = UpSampling2D((2, 2), name='upsample_0')(x)\n",
    "x = Conv2D(8, (3, 3), activation='relu', name='decoder_1', padding='same')(x)\n",
    "x = UpSampling2D((2, 2), name='upsample_1')(x)\n",
    "x = Conv2D(16, (3, 3), activation='relu', name='decoder_2', padding='same')(x)\n",
    "x = UpSampling2D((2, 2), name='upsample_2')(x)\n",
    "decoded = Conv2D(1, (3, 3), activation='sigmoid', name='decoder_3', padding='same')(x)"
   ]
  },
  {
   "cell_type": "code",
   "execution_count": 16,
   "metadata": {},
   "outputs": [],
   "source": [
    "# this model maps inputs to its reconstructions\n",
    "autoencoder = Model(inputs, decoded)"
   ]
  },
  {
   "cell_type": "code",
   "execution_count": 17,
   "metadata": {},
   "outputs": [],
   "source": [
    "# this model maps inputs to encoded represations\n",
    "# encoder = Model(inputs, encoded)"
   ]
  },
  {
   "cell_type": "code",
   "execution_count": 18,
   "metadata": {},
   "outputs": [],
   "source": [
    "# create a placeholder for an ancoded input\n",
    "# encoded_input = Input(shape=(32,))\n",
    "\n",
    "# get the last layer of the autoencoder model\n",
    "# decoder_layer = autoencoder.layers[-4]\n",
    "\n",
    "# create decoder model\n",
    "# decoder = Model(encoded_input, decoder_layer(encoded_input))"
   ]
  },
  {
   "cell_type": "markdown",
   "metadata": {},
   "source": [
    "### Compile the model with cost and optimizer"
   ]
  },
  {
   "cell_type": "code",
   "execution_count": 19,
   "metadata": {
    "collapsed": true
   },
   "outputs": [],
   "source": [
    "autoencoder.compile(loss='binary_crossentropy', \n",
    "              optimizer='adadelta')"
   ]
  },
  {
   "cell_type": "markdown",
   "metadata": {},
   "source": [
    "## 3. Train the model"
   ]
  },
  {
   "cell_type": "code",
   "execution_count": 20,
   "metadata": {
    "collapsed": true
   },
   "outputs": [],
   "source": [
    "# create a session to use the graph\n",
    "sess = tf.Session()\n",
    "sess.run(tf.global_variables_initializer())"
   ]
  },
  {
   "cell_type": "code",
   "execution_count": null,
   "metadata": {
    "scrolled": false
   },
   "outputs": [],
   "source": [
    "# Initialize an iterator over a training dataset.\n",
    "sess.run(iter.initializer, feed_dict={image_paths: train_paths})\n",
    "    \n",
    "for epoch_i in range(n_epochs):\n",
    "    for batch_i in range(n_batches):\n",
    "        # get batch\n",
    "        batch_X = sess.run(next_ele)\n",
    "\n",
    "        # train\n",
    "        autoencoder.fit(batch_X, batch_X, \n",
    "                        epochs=1, batch_size=batch_size,\n",
    "                        callbacks=[TensorBoard(log_dir=log_dir)])"
   ]
  },
  {
   "cell_type": "code",
   "execution_count": null,
   "metadata": {},
   "outputs": [],
   "source": [
    "# Initialize an iterator over a testing dataset.\n",
    "sess.run(iter.initializer, feed_dict={image_paths: test_paths})\n",
    "    \n",
    "# get batch\n",
    "test_batch_X = sess.run(next_ele)\n",
    "\n",
    "# show the test images\n",
    "show_images(test_batch_X)\n",
    "\n",
    "# create reconstructions\n",
    "reconstructions = autoencoder.predict(test_batch_X)\n",
    "\n",
    "# show the reconstructioned test images\n",
    "show_images(reconstructions)"
   ]
  }
 ],
 "metadata": {
  "kernelspec": {
   "display_name": "Python 3",
   "language": "python",
   "name": "python3"
  },
  "language_info": {
   "codemirror_mode": {
    "name": "ipython",
    "version": 3
   },
   "file_extension": ".py",
   "mimetype": "text/x-python",
   "name": "python",
   "nbconvert_exporter": "python",
   "pygments_lexer": "ipython3",
   "version": "3.6.5"
  }
 },
 "nbformat": 4,
 "nbformat_minor": 2
}
